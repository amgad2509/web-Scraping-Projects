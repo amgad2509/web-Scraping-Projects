{
 "cells": [
  {
   "cell_type": "markdown",
   "id": "c39877e3",
   "metadata": {},
   "source": [
    "### Web Scraping for `jumia` site :-\n"
   ]
  },
  {
   "cell_type": "code",
   "execution_count": 1,
   "id": "5f423285",
   "metadata": {},
   "outputs": [],
   "source": [
    "import requests\n",
    "import base64\n",
    "import re\n",
    "from PIL import Image\n",
    "from io import BytesIO\n",
    "import os\n",
    "\n",
    "\n",
    "#parses the unwanted data and helps to organize \n",
    "#and format the messy web data by fixing bad HTML \n",
    "#and present to us in an easily-traversible XML structures.\n",
    "from bs4 import BeautifulSoup as bs  \n",
    "\n",
    "import csv\n",
    "import pandas as pd\n",
    "import numpy as np"
   ]
  },
  {
   "cell_type": "code",
   "execution_count": 2,
   "id": "b54f5550",
   "metadata": {},
   "outputs": [
    {
     "data": {
      "text/plain": [
       "<Response [200]>"
      ]
     },
     "execution_count": 2,
     "metadata": {},
     "output_type": "execute_result"
    }
   ],
   "source": [
    "# Access the website\n",
    "url = 'https://www.jumia.com.eg/ar/catalog/?q=mobile'\n",
    "request = requests.get(url)\n",
    "request"
   ]
  },
  {
   "cell_type": "code",
   "execution_count": 3,
   "id": "68a5d7e3",
   "metadata": {},
   "outputs": [
    {
     "data": {
      "text/plain": [
       "b'<!DOCTYPE html><html lang=\"ar\" dir=\"rtl\"><head><meta charset=\"utf-8\"/><title>\\xd8\\xb9\\xd8\\xb1\\xd9\\x88\\xd8\\xb6 \\xd8\\xb9\\xd9\\x84\\xd9\\x8a \\xd8\\xac\\xd9\\x85\\xd9\\x8a\\xd8\\xb9 \\xd8\\xa7\\xd9\\x84\\xd9\\x85\\xd9\\x86\\xd8\\xaa\\xd8\\xac\\xd8\\xa7\\xd8\\xaa - \\xd8\\xaa\\xd8\\xb3\\xd9\\x88\\xd9\\x82 \\xd8\\xa3\\xd9\\x81\\xd8\\xb6\\xd9\\x84 \\xd8\\xa7\\xd9\\x84\\xd9\\x85\\xd9\\x86\\xd8\\xaa\\xd8\\xac\\xd8\\xa7\\xd8\\xaa \\xd8\\xa8\\xd8\\xa3\\xd9\\x81\\xd8\\xb6\\xd9\\x84 \\xd8\\xa7\\xd9\\x84\\xd8\\xa3\\xd8\\xb3\\xd8\\xb9\\xd8\\xa7\\xd8\\xb1 - \\xd8\\xac\\xd9\\x88\\xd9\\x85\\xd9\\x8a\\xd8\\xa7 \\xd9\\x85\\xd8\\xb5\\xd8\\xb1</title><meta property=\"og:type\" content=\"product\"/><meta property=\"og:site_name\" content=\"Jumia \\xd9\\x85\\xd8\\xb5\\xd8\\xb1\"/><meta property=\"og:title\" content=\"\\xd8\\xb9\\xd8\\xb1\\xd9\\x88\\xd8\\xb6 \\xd8\\xb9\\xd9\\x84\\xd9\\x8a \\xd8\\xac\\xd9\\x85\\xd9\\x8a\\xd8\\xb9 \\xd8\\xa7\\xd9\\x84\\xd9\\x85\\xd9\\x86\\xd8\\xaa\\xd8\\xac\\xd8\\xa7\\xd8\\xaa - \\xd8\\xaa\\xd8\\xb3\\xd9\\x88\\xd9\\x82 \\xd8\\xa3\\xd9\\x81\\xd8\\xb6\\xd9\\x84 \\xd8\\xa7\\xd9\\x84\\xd9\\x85\\xd9\\x86\\xd8\\xaa\\xd8\\xac\\xd8\\xa7\\xd8\\xaa \\xd8\\xa8\\xd8\\xa3\\xd9\\x81\\xd8\\xb6\\xd9\\x84 \\xd8\\xa7\\xd9\\x84\\xd8\\xa3\\xd8\\xb3\\xd8\\xb9\\xd8\\xa7\\xd8\\xb1 - \\xd8\\xac\\xd9\\x88\\xd9\\x85\\xd9\\x8a\\xd8\\xa7 \\xd9\\x85\\xd8\\xb5\\xd8\\xb1\"/><meta property=\"og:description\"'"
      ]
     },
     "execution_count": 3,
     "metadata": {},
     "output_type": "execute_result"
    }
   ],
   "source": [
    "request.content[:500]\n"
   ]
  },
  {
   "cell_type": "code",
   "execution_count": 4,
   "id": "8618fd2e",
   "metadata": {},
   "outputs": [],
   "source": [
    "soup = bs(request.content,'html.parser')"
   ]
  },
  {
   "cell_type": "code",
   "execution_count": 5,
   "id": "1b20ea85",
   "metadata": {},
   "outputs": [],
   "source": [
    "containers = soup.find_all('a', {'class':'core'})"
   ]
  },
  {
   "cell_type": "code",
   "execution_count": 6,
   "id": "af14177f",
   "metadata": {},
   "outputs": [
    {
     "data": {
      "text/plain": [
       "<a class=\"core\" data-brand=\"Samsung\" data-category=\"Phones &amp; Tablets/Mobile Phones/Smartphones/Android Phones\" data-dimension23=\"\" data-dimension26=\"12\" data-dimension27=\"4.3\" data-dimension28=\"1\" data-dimension37=\"0\" data-dimension43=\"CFS|JMALL|TBOOST|TW_27|XMAS22_51|xmas_10\" data-dimension44=\"0\" data-id=\"SA024MP1AH2PENAFAMZ\" data-list=\"\" data-name=\"Galaxy A24 - 6.5 inches 128GB/6GB RAM - Dual SIM 4G Mobile Phone – Silver\" data-position=\"1\" data-price=\"232.30\" data-track-onclick=\"eecProduct\" data-track-onview=\"eecProduct\" href=\"/ar/samsung-galaxy-a24-6.5-inches-128gb6gb-ram-dual-sim-4g-mobile-phone-silver-49985087.html\"><div class=\"img-c\"><img alt=\"\" class=\"img\" data-lazy=\"true\" data-src=\"https://eg.jumia.is/unsafe/fit-in/300x300/filters:fill(white)/product/78/058994/1.jpg?8082\" height=\"208\" src=\"data:image/gif;base64,R0lGODlhAQABAIAAAAAAAP///yH5BAEAAAAALAAAAAABAAEAAAIBRAA7\" width=\"208\"/></div><div class=\"info\"><div class=\"bdg _mall _xs\">المتجر الرسمي</div><h3 class=\"name\">Samsung Galaxy A24 - 6.5 inches 128GB/6GB RAM - Dual SIM 4G Mobile Phone – Silver</h3><div class=\"prc\">جنيه 7,899.00</div><div class=\"s-prc-w\"><div class=\"old\">جنيه 8,499.00</div><div class=\"bdg _dsct _sm\">7%</div></div><div class=\"rev\"><div class=\"stars _s\">4.3 out of 5<div class=\"in\" style=\"width:86%\"></div></div>(12)</div><svg aria-label=\"شحن سريع\" class=\"ic xprss\" height=\"10\" viewbox=\"0 0 114 12\" width=\"94\"><use xlink:href=\"https://www.jumia.com.eg/assets_he/images/i-shop-jumia.9f5451c7.svg#express\"></use></svg></div></a>"
      ]
     },
     "execution_count": 6,
     "metadata": {},
     "output_type": "execute_result"
    }
   ],
   "source": [
    "containers[0]"
   ]
  },
  {
   "cell_type": "code",
   "execution_count": 7,
   "id": "5b908105",
   "metadata": {},
   "outputs": [
    {
     "data": {
      "text/plain": [
       "40"
      ]
     },
     "execution_count": 7,
     "metadata": {},
     "output_type": "execute_result"
    }
   ],
   "source": [
    "len(containers)"
   ]
  },
  {
   "cell_type": "code",
   "execution_count": 8,
   "id": "77b50bb6",
   "metadata": {},
   "outputs": [
    {
     "data": {
      "text/plain": [
       "'Samsung Galaxy A14 - 6.6-inch 4GB/64GB Dual Sim 4G - Mobile Phone - Light Green'"
      ]
     },
     "execution_count": 8,
     "metadata": {},
     "output_type": "execute_result"
    }
   ],
   "source": [
    "# Scrapping Name\n",
    "name = containers[10].find_all('h3', {'class':'name'})\n",
    "name[0].text.strip()"
   ]
  },
  {
   "cell_type": "code",
   "execution_count": 9,
   "id": "23e73d39",
   "metadata": {},
   "outputs": [
    {
     "data": {
      "text/plain": [
       "'جنيه 8,999.00'"
      ]
     },
     "execution_count": 9,
     "metadata": {},
     "output_type": "execute_result"
    }
   ],
   "source": [
    "# Scrapping Price\n",
    "price = containers[35].find_all('div', {'class':'prc'})\n",
    "price[0].text.strip()"
   ]
  },
  {
   "cell_type": "code",
   "execution_count": 10,
   "id": "1e834ed2",
   "metadata": {},
   "outputs": [
    {
     "data": {
      "text/plain": [
       "'4.7 out of 5'"
      ]
     },
     "execution_count": 10,
     "metadata": {},
     "output_type": "execute_result"
    }
   ],
   "source": [
    "# Scrapping Rating\n",
    "rating = containers[13].find_all('div', {'class':'stars _s'})\n",
    "rating[0].text.strip()"
   ]
  },
  {
   "cell_type": "markdown",
   "id": "94fd5d70",
   "metadata": {},
   "source": [
    "### Now we will Scrape only one page :-"
   ]
  },
  {
   "cell_type": "code",
   "execution_count": 17,
   "id": "d634ab92",
   "metadata": {},
   "outputs": [],
   "source": [
    "def clean_filename(name):\n",
    "    cleaned_name = re.sub(r'[\\\\/*?:\"<>|]', '_', name)  \n",
    "    cleaned_name = re.sub(r'[^a-zA-Z0-9_.\\s-]', '', cleaned_name)  # Remove other unwanted characters\n",
    "    cleaned_name = re.sub(r'\\s+', ' ', cleaned_name).strip()  # Replace multiple spaces with single space\n",
    "    return cleaned_name[:100]  # Limit the length for file...\n"
   ]
  },
  {
   "cell_type": "code",
   "execution_count": 12,
   "id": "f014c55c",
   "metadata": {},
   "outputs": [
    {
     "name": "stdout",
     "output_type": "stream",
     "text": [
      "Done writing to CSV file.\n"
     ]
    }
   ],
   "source": [
    "if not os.path.exists('images'):\n",
    "    os.makedirs('images')\n",
    "\n",
    "with open('JUMIA_DATA.csv', 'w', encoding='utf-8', newline='') as file:\n",
    "    writer_obj = csv.writer(file)\n",
    "    writer_obj.writerow(['Name', 'Price', 'Rating', 'Image_URL'])\n",
    "    \n",
    "    for container in containers:\n",
    "        # Scraping Name\n",
    "        name = container.find_all('h3', {'class': 'name'})\n",
    "        name = name[0].text.strip() if name else np.nan\n",
    "        \n",
    "        # Scraping Price\n",
    "        price = container.find_all('div', {'class': 'prc'})\n",
    "        price = price[0].text.strip() if price else np.nan\n",
    "        \n",
    "        # Scraping Rating\n",
    "        rating_element = container.find_all('div', {'class': 'stars _s'})\n",
    "        rating = rating_element[0].text.strip() if rating_element else np.nan\n",
    "        \n",
    "         # Scraping Image URL \n",
    "        image_element = container.find('div', {'class': 'img-c'}).find('img')\n",
    "        \n",
    "        if image_element:\n",
    "            image_src = image_element.get('data-src')  \n",
    "            \n",
    "            if image_src:\n",
    "                # Clean the name that will help us to creat a valid name\n",
    "                cleaned_name = clean_filename(name)\n",
    "                \n",
    "                # For CSV ...\n",
    "                image_url = f'image_{cleaned_name}.jpg'\n",
    "                \n",
    "                # Write image URL to CSV\n",
    "                writer_obj.writerow([name, price, rating, image_url])\n",
    "                \n",
    "                # We can Download the image using the obtained URL (using requests library)\n",
    "                try:\n",
    "                    response = requests.get(image_src)\n",
    "                    with open(f'images/image_{cleaned_name}.jpg', 'wb') as img_file:\n",
    "                        img_file.write(response.content)\n",
    "                except Exception as e:\n",
    "                    print(f\"Error downloading image: {e}\")\n",
    "        else:\n",
    "            image_url = np.nan\n",
    "        \n",
    "        writer_obj.writerow([name, price, rating, image_url])\n",
    "    \n",
    "print('Done writing to CSV file')"
   ]
  },
  {
   "cell_type": "code",
   "execution_count": 13,
   "id": "90f50ced",
   "metadata": {},
   "outputs": [],
   "source": [
    "df=pd.read_csv('JUMIA_DATA.csv')"
   ]
  },
  {
   "cell_type": "code",
   "execution_count": 14,
   "id": "155176f7",
   "metadata": {},
   "outputs": [
    {
     "data": {
      "text/plain": [
       "Name         0\n",
       "Price        0\n",
       "Rating       8\n",
       "Image_URL    0\n",
       "dtype: int64"
      ]
     },
     "execution_count": 14,
     "metadata": {},
     "output_type": "execute_result"
    }
   ],
   "source": [
    "df.isna().sum()"
   ]
  },
  {
   "cell_type": "code",
   "execution_count": 15,
   "id": "466f634b",
   "metadata": {},
   "outputs": [
    {
     "data": {
      "text/html": [
       "<div>\n",
       "<style scoped>\n",
       "    .dataframe tbody tr th:only-of-type {\n",
       "        vertical-align: middle;\n",
       "    }\n",
       "\n",
       "    .dataframe tbody tr th {\n",
       "        vertical-align: top;\n",
       "    }\n",
       "\n",
       "    .dataframe thead th {\n",
       "        text-align: right;\n",
       "    }\n",
       "</style>\n",
       "<table border=\"1\" class=\"dataframe\">\n",
       "  <thead>\n",
       "    <tr style=\"text-align: right;\">\n",
       "      <th></th>\n",
       "      <th>Name</th>\n",
       "      <th>Price</th>\n",
       "      <th>Rating</th>\n",
       "      <th>Image_URL</th>\n",
       "    </tr>\n",
       "  </thead>\n",
       "  <tbody>\n",
       "    <tr>\n",
       "      <th>0</th>\n",
       "      <td>Samsung Galaxy A24 - 6.5 inches 128GB/6GB RAM ...</td>\n",
       "      <td>جنيه 7,899.00</td>\n",
       "      <td>4.3 out of 5</td>\n",
       "      <td>image_Samsung Galaxy A24 - 6.5 inches 128GB_6G...</td>\n",
       "    </tr>\n",
       "    <tr>\n",
       "      <th>1</th>\n",
       "      <td>Samsung Galaxy A24 - 6.5 inches 128GB/6GB RAM ...</td>\n",
       "      <td>جنيه 7,899.00</td>\n",
       "      <td>4.3 out of 5</td>\n",
       "      <td>image_Samsung Galaxy A24 - 6.5 inches 128GB_6G...</td>\n",
       "    </tr>\n",
       "    <tr>\n",
       "      <th>2</th>\n",
       "      <td>Samsung Galaxy A24 - 6.5 inches 128GB/6GB RAM ...</td>\n",
       "      <td>جنيه 7,899.00</td>\n",
       "      <td>4.4 out of 5</td>\n",
       "      <td>image_Samsung Galaxy A24 - 6.5 inches 128GB_6G...</td>\n",
       "    </tr>\n",
       "    <tr>\n",
       "      <th>3</th>\n",
       "      <td>Samsung Galaxy A24 - 6.5 inches 128GB/6GB RAM ...</td>\n",
       "      <td>جنيه 7,899.00</td>\n",
       "      <td>4.4 out of 5</td>\n",
       "      <td>image_Samsung Galaxy A24 - 6.5 inches 128GB_6G...</td>\n",
       "    </tr>\n",
       "    <tr>\n",
       "      <th>4</th>\n",
       "      <td>Samsung A24 6.5 Inch 128GB/8GB Dual SIM Mobile...</td>\n",
       "      <td>جنيه 8,499.00</td>\n",
       "      <td>4.9 out of 5</td>\n",
       "      <td>image_Samsung A24 6.5 Inch 128GB_8GB Dual SIM ...</td>\n",
       "    </tr>\n",
       "    <tr>\n",
       "      <th>...</th>\n",
       "      <td>...</td>\n",
       "      <td>...</td>\n",
       "      <td>...</td>\n",
       "      <td>...</td>\n",
       "    </tr>\n",
       "    <tr>\n",
       "      <th>75</th>\n",
       "      <td>Nokia نوكيا C1 الاصدار الثاني بشريحتين اتصال، ...</td>\n",
       "      <td>جنيه 1,999.00</td>\n",
       "      <td>4 out of 5</td>\n",
       "      <td>image_Nokia C1 16 1.jpg</td>\n",
       "    </tr>\n",
       "    <tr>\n",
       "      <th>76</th>\n",
       "      <td>Nokia نوكيا C1 الاصدار الثاني بشريحتين اتصال، ...</td>\n",
       "      <td>جنيه 1,999.00</td>\n",
       "      <td>5 out of 5</td>\n",
       "      <td>image_Nokia C1 16 1.jpg</td>\n",
       "    </tr>\n",
       "    <tr>\n",
       "      <th>77</th>\n",
       "      <td>Nokia نوكيا C1 الاصدار الثاني بشريحتين اتصال، ...</td>\n",
       "      <td>جنيه 1,999.00</td>\n",
       "      <td>5 out of 5</td>\n",
       "      <td>image_Nokia C1 16 1.jpg</td>\n",
       "    </tr>\n",
       "    <tr>\n",
       "      <th>78</th>\n",
       "      <td>Nokia Nokia نوكيا 210 - موبايل 2.4 بوصة ثنائي ...</td>\n",
       "      <td>جنيه 1,199.00</td>\n",
       "      <td>3.3 out of 5</td>\n",
       "      <td>image_Nokia Nokia 210 - 2.4 -.jpg</td>\n",
       "    </tr>\n",
       "    <tr>\n",
       "      <th>79</th>\n",
       "      <td>Nokia Nokia نوكيا 210 - موبايل 2.4 بوصة ثنائي ...</td>\n",
       "      <td>جنيه 1,199.00</td>\n",
       "      <td>3.3 out of 5</td>\n",
       "      <td>image_Nokia Nokia 210 - 2.4 -.jpg</td>\n",
       "    </tr>\n",
       "  </tbody>\n",
       "</table>\n",
       "<p>80 rows × 4 columns</p>\n",
       "</div>"
      ],
      "text/plain": [
       "                                                 Name          Price  \\\n",
       "0   Samsung Galaxy A24 - 6.5 inches 128GB/6GB RAM ...  جنيه 7,899.00   \n",
       "1   Samsung Galaxy A24 - 6.5 inches 128GB/6GB RAM ...  جنيه 7,899.00   \n",
       "2   Samsung Galaxy A24 - 6.5 inches 128GB/6GB RAM ...  جنيه 7,899.00   \n",
       "3   Samsung Galaxy A24 - 6.5 inches 128GB/6GB RAM ...  جنيه 7,899.00   \n",
       "4   Samsung A24 6.5 Inch 128GB/8GB Dual SIM Mobile...  جنيه 8,499.00   \n",
       "..                                                ...            ...   \n",
       "75  Nokia نوكيا C1 الاصدار الثاني بشريحتين اتصال، ...  جنيه 1,999.00   \n",
       "76  Nokia نوكيا C1 الاصدار الثاني بشريحتين اتصال، ...  جنيه 1,999.00   \n",
       "77  Nokia نوكيا C1 الاصدار الثاني بشريحتين اتصال، ...  جنيه 1,999.00   \n",
       "78  Nokia Nokia نوكيا 210 - موبايل 2.4 بوصة ثنائي ...  جنيه 1,199.00   \n",
       "79  Nokia Nokia نوكيا 210 - موبايل 2.4 بوصة ثنائي ...  جنيه 1,199.00   \n",
       "\n",
       "          Rating                                          Image_URL  \n",
       "0   4.3 out of 5  image_Samsung Galaxy A24 - 6.5 inches 128GB_6G...  \n",
       "1   4.3 out of 5  image_Samsung Galaxy A24 - 6.5 inches 128GB_6G...  \n",
       "2   4.4 out of 5  image_Samsung Galaxy A24 - 6.5 inches 128GB_6G...  \n",
       "3   4.4 out of 5  image_Samsung Galaxy A24 - 6.5 inches 128GB_6G...  \n",
       "4   4.9 out of 5  image_Samsung A24 6.5 Inch 128GB_8GB Dual SIM ...  \n",
       "..           ...                                                ...  \n",
       "75    4 out of 5                            image_Nokia C1 16 1.jpg  \n",
       "76    5 out of 5                            image_Nokia C1 16 1.jpg  \n",
       "77    5 out of 5                            image_Nokia C1 16 1.jpg  \n",
       "78  3.3 out of 5                  image_Nokia Nokia 210 - 2.4 -.jpg  \n",
       "79  3.3 out of 5                  image_Nokia Nokia 210 - 2.4 -.jpg  \n",
       "\n",
       "[80 rows x 4 columns]"
      ]
     },
     "execution_count": 15,
     "metadata": {},
     "output_type": "execute_result"
    }
   ],
   "source": [
    "df"
   ]
  },
  {
   "cell_type": "code",
   "execution_count": 16,
   "id": "751ad33c",
   "metadata": {},
   "outputs": [
    {
     "data": {
      "text/plain": [
       "'image_Samsung Galaxy A24 - 6.5 inches 128GB_6GB RAM - Dual SIM 4G Mobile Phone Silver.jpg'"
      ]
     },
     "execution_count": 16,
     "metadata": {},
     "output_type": "execute_result"
    }
   ],
   "source": [
    "df['Image_URL'][0]"
   ]
  },
  {
   "cell_type": "markdown",
   "id": "cb203697",
   "metadata": {},
   "source": [
    "### Now we will Scrape all pages Together :-\n",
    "- We have only `Three Pages ` in jumia for mobile data ."
   ]
  },
  {
   "cell_type": "code",
   "execution_count": 17,
   "id": "7986cbbc",
   "metadata": {},
   "outputs": [
    {
     "name": "stdout",
     "output_type": "stream",
     "text": [
      "Done writing to CSV file.\n"
     ]
    }
   ],
   "source": [
    "if not os.path.exists('images_for_all'):\n",
    "    os.makedirs('images_for_all')\n",
    "    \n",
    "with open('JUMIA_DATA_all.csv', 'w', encoding='utf-8', newline='') as file:\n",
    "    writer_obj = csv.writer(file)\n",
    "    writer_obj.writerow(['Name', 'Price', 'Rating', 'Image_URL'])\n",
    "    \n",
    "    for i in range(1,4):\n",
    "        url = f'https://www.jumia.com.eg/ar/catalog/?q=mobile&page={i}#catalog-listing'\n",
    "        request = requests.get(url)\n",
    "        soup = bs(request.content,'html.parser')\n",
    "        containers = soup.find_all('a', {'class':'core'})\n",
    "        \n",
    "        for container in containers:\n",
    "            # Scrapping Name\n",
    "            name = container.find_all('h3', {'class': 'name'})\n",
    "            name = name[0].text.strip() if name else np.nan\n",
    "\n",
    "            # Scrapping Price\n",
    "            price = container.find_all('div', {'class': 'prc'})\n",
    "            price = price[0].text.strip() if price else np.nan\n",
    "\n",
    "            # Scrapping Rating\n",
    "            rating_element = container.find_all('div', {'class': 'stars _s'})\n",
    "            rating = rating_element[0].text.strip() if rating_element else np.nan\n",
    "            \n",
    "             # Scraping Image URL\n",
    "            image_element = container.find('div', {'class': 'img-c'}).find('img')\n",
    "        \n",
    "            if image_element:\n",
    "                image_src = image_element.get('data-src')\n",
    "            \n",
    "                if image_src:\n",
    "                    cleaned_name = clean_filename(name)\n",
    "                \n",
    "                    image_url = f'image_{cleaned_name}.jpg'\n",
    "                \n",
    "                    # Write image URL to CSV\n",
    "                    writer_obj.writerow([name, price, rating, image_url])\n",
    "                \n",
    "                    try:\n",
    "                        response = requests.get(image_src)\n",
    "                        with open(f'images_for_all/image_{cleaned_name}.jpg', 'wb') as img_file:\n",
    "                            img_file.write(response.content)\n",
    "                    except Exception as e:\n",
    "                        print(f\"Error downloading image: {e}\")\n",
    "            else:\n",
    "                image_url = np.nan\n",
    "        \n",
    "            writer_obj.writerow([name, price, rating, image_url])\n",
    "    \n",
    "print('Done writing to CSV file')"
   ]
  },
  {
   "cell_type": "code",
   "execution_count": 18,
   "id": "6f288e67",
   "metadata": {},
   "outputs": [
    {
     "data": {
      "text/plain": [
       "Name          0\n",
       "Price         0\n",
       "Rating       84\n",
       "Image_URL     0\n",
       "dtype: int64"
      ]
     },
     "execution_count": 18,
     "metadata": {},
     "output_type": "execute_result"
    }
   ],
   "source": [
    "df=pd.read_csv('JUMIA_DATA_all.csv')\n",
    "\n",
    "df.isna().sum()"
   ]
  },
  {
   "cell_type": "code",
   "execution_count": 19,
   "id": "6e8c0613",
   "metadata": {},
   "outputs": [
    {
     "data": {
      "text/html": [
       "<div>\n",
       "<style scoped>\n",
       "    .dataframe tbody tr th:only-of-type {\n",
       "        vertical-align: middle;\n",
       "    }\n",
       "\n",
       "    .dataframe tbody tr th {\n",
       "        vertical-align: top;\n",
       "    }\n",
       "\n",
       "    .dataframe thead th {\n",
       "        text-align: right;\n",
       "    }\n",
       "</style>\n",
       "<table border=\"1\" class=\"dataframe\">\n",
       "  <thead>\n",
       "    <tr style=\"text-align: right;\">\n",
       "      <th></th>\n",
       "      <th>Name</th>\n",
       "      <th>Price</th>\n",
       "      <th>Rating</th>\n",
       "      <th>Image_URL</th>\n",
       "    </tr>\n",
       "  </thead>\n",
       "  <tbody>\n",
       "    <tr>\n",
       "      <th>0</th>\n",
       "      <td>Samsung Galaxy A24 - 6.5 inches 128GB/6GB RAM ...</td>\n",
       "      <td>جنيه 7,899.00</td>\n",
       "      <td>4.3 out of 5</td>\n",
       "      <td>image_Samsung Galaxy A24 - 6.5 inches 128GB_6G...</td>\n",
       "    </tr>\n",
       "    <tr>\n",
       "      <th>1</th>\n",
       "      <td>Samsung Galaxy A24 - 6.5 inches 128GB/6GB RAM ...</td>\n",
       "      <td>جنيه 7,899.00</td>\n",
       "      <td>4.3 out of 5</td>\n",
       "      <td>image_Samsung Galaxy A24 - 6.5 inches 128GB_6G...</td>\n",
       "    </tr>\n",
       "    <tr>\n",
       "      <th>2</th>\n",
       "      <td>Samsung Galaxy A24 - 6.5 inches 128GB/6GB RAM ...</td>\n",
       "      <td>جنيه 7,899.00</td>\n",
       "      <td>4.4 out of 5</td>\n",
       "      <td>image_Samsung Galaxy A24 - 6.5 inches 128GB_6G...</td>\n",
       "    </tr>\n",
       "    <tr>\n",
       "      <th>3</th>\n",
       "      <td>Samsung Galaxy A24 - 6.5 inches 128GB/6GB RAM ...</td>\n",
       "      <td>جنيه 7,899.00</td>\n",
       "      <td>4.4 out of 5</td>\n",
       "      <td>image_Samsung Galaxy A24 - 6.5 inches 128GB_6G...</td>\n",
       "    </tr>\n",
       "    <tr>\n",
       "      <th>4</th>\n",
       "      <td>Samsung A24 6.5 Inch 128GB/8GB Dual SIM Mobile...</td>\n",
       "      <td>جنيه 8,499.00</td>\n",
       "      <td>4.9 out of 5</td>\n",
       "      <td>image_Samsung A24 6.5 Inch 128GB_8GB Dual SIM ...</td>\n",
       "    </tr>\n",
       "    <tr>\n",
       "      <th>...</th>\n",
       "      <td>...</td>\n",
       "      <td>...</td>\n",
       "      <td>...</td>\n",
       "      <td>...</td>\n",
       "    </tr>\n",
       "    <tr>\n",
       "      <th>235</th>\n",
       "      <td>Huawei Nova Y90 - 6.7-inch 8GB/128GB Dual Sim ...</td>\n",
       "      <td>جنيه 8,088.99</td>\n",
       "      <td>4 out of 5</td>\n",
       "      <td>image_Huawei Nova Y90 - 6.7-inch 8GB_128GB Dua...</td>\n",
       "    </tr>\n",
       "    <tr>\n",
       "      <th>236</th>\n",
       "      <td>Samsung A54 - 6.4 Inch - 8GB/256GB RAM - 5G - ...</td>\n",
       "      <td>جنيه 16,900.00</td>\n",
       "      <td>NaN</td>\n",
       "      <td>image_Samsung A54 - 6.4 Inch - 8GB_256GB RAM -...</td>\n",
       "    </tr>\n",
       "    <tr>\n",
       "      <th>237</th>\n",
       "      <td>Samsung A54 - 6.4 Inch - 8GB/256GB RAM - 5G - ...</td>\n",
       "      <td>جنيه 16,900.00</td>\n",
       "      <td>NaN</td>\n",
       "      <td>image_Samsung A54 - 6.4 Inch - 8GB_256GB RAM -...</td>\n",
       "    </tr>\n",
       "    <tr>\n",
       "      <th>238</th>\n",
       "      <td>Samsung سامسونج جالاكسي A23 رام 4 جيجا، 128 جي...</td>\n",
       "      <td>جنيه 7,999.00</td>\n",
       "      <td>5 out of 5</td>\n",
       "      <td>image_Samsung A23 4 128 -.jpg</td>\n",
       "    </tr>\n",
       "    <tr>\n",
       "      <th>239</th>\n",
       "      <td>Samsung سامسونج جالاكسي A23 رام 4 جيجا، 128 جي...</td>\n",
       "      <td>جنيه 7,999.00</td>\n",
       "      <td>5 out of 5</td>\n",
       "      <td>image_Samsung A23 4 128 -.jpg</td>\n",
       "    </tr>\n",
       "  </tbody>\n",
       "</table>\n",
       "<p>240 rows × 4 columns</p>\n",
       "</div>"
      ],
      "text/plain": [
       "                                                  Name           Price  \\\n",
       "0    Samsung Galaxy A24 - 6.5 inches 128GB/6GB RAM ...   جنيه 7,899.00   \n",
       "1    Samsung Galaxy A24 - 6.5 inches 128GB/6GB RAM ...   جنيه 7,899.00   \n",
       "2    Samsung Galaxy A24 - 6.5 inches 128GB/6GB RAM ...   جنيه 7,899.00   \n",
       "3    Samsung Galaxy A24 - 6.5 inches 128GB/6GB RAM ...   جنيه 7,899.00   \n",
       "4    Samsung A24 6.5 Inch 128GB/8GB Dual SIM Mobile...   جنيه 8,499.00   \n",
       "..                                                 ...             ...   \n",
       "235  Huawei Nova Y90 - 6.7-inch 8GB/128GB Dual Sim ...   جنيه 8,088.99   \n",
       "236  Samsung A54 - 6.4 Inch - 8GB/256GB RAM - 5G - ...  جنيه 16,900.00   \n",
       "237  Samsung A54 - 6.4 Inch - 8GB/256GB RAM - 5G - ...  جنيه 16,900.00   \n",
       "238  Samsung سامسونج جالاكسي A23 رام 4 جيجا، 128 جي...   جنيه 7,999.00   \n",
       "239  Samsung سامسونج جالاكسي A23 رام 4 جيجا، 128 جي...   جنيه 7,999.00   \n",
       "\n",
       "           Rating                                          Image_URL  \n",
       "0    4.3 out of 5  image_Samsung Galaxy A24 - 6.5 inches 128GB_6G...  \n",
       "1    4.3 out of 5  image_Samsung Galaxy A24 - 6.5 inches 128GB_6G...  \n",
       "2    4.4 out of 5  image_Samsung Galaxy A24 - 6.5 inches 128GB_6G...  \n",
       "3    4.4 out of 5  image_Samsung Galaxy A24 - 6.5 inches 128GB_6G...  \n",
       "4    4.9 out of 5  image_Samsung A24 6.5 Inch 128GB_8GB Dual SIM ...  \n",
       "..            ...                                                ...  \n",
       "235    4 out of 5  image_Huawei Nova Y90 - 6.7-inch 8GB_128GB Dua...  \n",
       "236           NaN  image_Samsung A54 - 6.4 Inch - 8GB_256GB RAM -...  \n",
       "237           NaN  image_Samsung A54 - 6.4 Inch - 8GB_256GB RAM -...  \n",
       "238    5 out of 5                      image_Samsung A23 4 128 -.jpg  \n",
       "239    5 out of 5                      image_Samsung A23 4 128 -.jpg  \n",
       "\n",
       "[240 rows x 4 columns]"
      ]
     },
     "execution_count": 19,
     "metadata": {},
     "output_type": "execute_result"
    }
   ],
   "source": [
    "df"
   ]
  },
  {
   "cell_type": "code",
   "execution_count": null,
   "id": "269c95f8",
   "metadata": {},
   "outputs": [],
   "source": []
  },
  {
   "cell_type": "code",
   "execution_count": null,
   "id": "beb11299",
   "metadata": {},
   "outputs": [],
   "source": []
  }
 ],
 "metadata": {
  "kernelspec": {
   "display_name": "Python 3 (ipykernel)",
   "language": "python",
   "name": "python3"
  },
  "language_info": {
   "codemirror_mode": {
    "name": "ipython",
    "version": 3
   },
   "file_extension": ".py",
   "mimetype": "text/x-python",
   "name": "python",
   "nbconvert_exporter": "python",
   "pygments_lexer": "ipython3",
   "version": "3.11.5"
  }
 },
 "nbformat": 4,
 "nbformat_minor": 5
}
